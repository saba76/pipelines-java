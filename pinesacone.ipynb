{
  "nbformat": 4,
  "nbformat_minor": 0,
  "metadata": {
    "colab": {
      "provenance": [],
      "mount_file_id": "19s88aT0V7h19Ys7_8lE0M7F3uukZhD95",
      "authorship_tag": "ABX9TyOFcxaMIkWv5r+N9DxK1XmG",
      "include_colab_link": true
    },
    "kernelspec": {
      "name": "python3",
      "display_name": "Python 3"
    },
    "language_info": {
      "name": "python"
    }
  },
  "cells": [
    {
      "cell_type": "markdown",
      "metadata": {
        "id": "view-in-github",
        "colab_type": "text"
      },
      "source": [
        "<a href=\"https://colab.research.google.com/github/saba76/pipelines-java/blob/master/pinesacone.ipynb\" target=\"_parent\"><img src=\"https://colab.research.google.com/assets/colab-badge.svg\" alt=\"Open In Colab\"/></a>"
      ]
    },
    {
      "cell_type": "code",
      "execution_count": null,
      "metadata": {
        "id": "roaEyzI9FcMP"
      },
      "outputs": [],
      "source": [
        "# Import Pinecone\n",
        "!pip install -qU pinecone-client\n",
        "from pinecone import Pinecone\n",
        "!pip install PyPDF2 sentence-transformers pinecone-client\n",
        "!pip install -U sentence-transformers\n",
        "import PyPDF2\n",
        "from sentence_transformers import SentenceTransformer\n",
        "import torch\n",
        "from transformers import AutoTokenizer, AutoModel\n",
        "# Initialize connection (get API key at app.pinecone.io)\n",
        "api_key = \"fdf2ea8b-b322-4beb-9f8b-835f21d1b1e4\"\n",
        "pc = Pinecone(api_key=api_key)\n",
        "\n"
      ]
    },
    {
      "cell_type": "markdown",
      "source": [
        "Initialization of pinecone, BERT , PDF etc"
      ],
      "metadata": {
        "id": "OKRvraT4YmE5"
      }
    },
    {
      "cell_type": "code",
      "source": [
        "pc.list_indexes()"
      ],
      "metadata": {
        "id": "Zvyt-8V9HP0K"
      },
      "execution_count": null,
      "outputs": []
    },
    {
      "cell_type": "markdown",
      "source": [
        "verifying the indexes in Pinecone"
      ],
      "metadata": {
        "id": "IgYCjscsYtTk"
      }
    },
    {
      "cell_type": "code",
      "source": [
        "def extract_text_from_pdf_and_split_into_pages(file_path):\n",
        "    pages_text = []\n",
        "    with open(file_path, 'rb') as file:\n",
        "        reader = PyPDF2.PdfReader(file)\n",
        "        num_pages = len(reader.pages)\n",
        "        for page_number in range(num_pages):\n",
        "            page_text = reader.pages[page_number].extract_text()\n",
        "            pages_text.append(page_text)\n",
        "    return pages_text\n"
      ],
      "metadata": {
        "id": "dI43Xcz-K5GZ"
      },
      "execution_count": 131,
      "outputs": []
    },
    {
      "cell_type": "markdown",
      "source": [
        "Text Extraction from PDF method definition"
      ],
      "metadata": {
        "id": "gXi6RhdjYxib"
      }
    },
    {
      "cell_type": "code",
      "source": [
        "drive_path='/content/drive/MyDrive/panna/'\n",
        "file_path = drive_path + 'symptomsAutistic.pdf'\n",
        "pages=extract_text_from_pdf_and_split_into_pages(file_path)\n"
      ],
      "metadata": {
        "id": "lXubAbn1LhyL"
      },
      "execution_count": null,
      "outputs": []
    },
    {
      "cell_type": "markdown",
      "source": [
        "Source file path from google drive"
      ],
      "metadata": {
        "id": "BvVd6dBEY20c"
      }
    },
    {
      "cell_type": "markdown",
      "source": [
        "Later text proprocessing - insert code here"
      ],
      "metadata": {
        "id": "nFlnHBCVYc1B"
      }
    },
    {
      "cell_type": "code",
      "source": [
        "import numpy as np\n",
        "model = SentenceTransformer('sentence-transformers/LaBSE')\n",
        "embeddings_list=[]\n",
        "content_list=[]\n",
        "for page_text in pages:\n",
        "  page_embedding = model.encode(page_text)\n",
        "  embeddings_list.append(page_embedding.tolist())\n",
        "  content_list.append(page_text)\n",
        "  embeddings_array=np.array(embeddings_list)\n"
      ],
      "metadata": {
        "id": "Hdguw8umXS3W"
      },
      "execution_count": 133,
      "outputs": []
    },
    {
      "cell_type": "code",
      "source": [
        "num_embeddings = len(embeddings_array)\n",
        "embedding_shape = embeddings_array[0].shape\n",
        "print(\"Number of embeddings:\", num_embeddings)\n",
        "print(\"Shape of embeddings:\", embedding_shape)"
      ],
      "metadata": {
        "colab": {
          "base_uri": "https://localhost:8080/"
        },
        "id": "jP9oRa9Txdn8",
        "outputId": "688dde35-adf2-4046-ac3b-028b52776b23"
      },
      "execution_count": 134,
      "outputs": [
        {
          "output_type": "stream",
          "name": "stdout",
          "text": [
            "Number of embeddings: 113\n",
            "Shape of embeddings: (768,)\n"
          ]
        }
      ]
    },
    {
      "cell_type": "code",
      "source": [
        "index = pc.Index(\"bert-saba-language\")\n",
        "for i, embedding in enumerate(embeddings_array):\n",
        "    vector = {\"main\": f\"vector_{i}\", \"values\": embedding.tolist(),\"metadata\":{\"splitting_chunks\": f\"split_{i}\",\"content\":content_list[i]}}\n",
        "    index.upsert(vectors=[{\"id\": vector[\"main\"], \"values\": vector[\"values\"], \"metadata\": vector[\"metadata\"]}])\n"
      ],
      "metadata": {
        "id": "v3D93qQ9fwpW"
      },
      "execution_count": null,
      "outputs": []
    },
    {
      "cell_type": "code",
      "source": [
        "\n",
        "model = SentenceTransformer('sentence-transformers/LaBSE')\n",
        "index = pc.Index(\"bert-saba-language\")\n",
        "query_text = \"this sensory signal is often misunderstood\"\n",
        "vector = model.encode([query_text])[0].tolist() # convert to list\n",
        "results = index.query(vector=vector, top_k=1, include_metadata=True)\n",
        "print(results)\n"
      ],
      "metadata": {
        "id": "gTFdGr9a5xGb"
      },
      "execution_count": null,
      "outputs": []
    }
  ]
}